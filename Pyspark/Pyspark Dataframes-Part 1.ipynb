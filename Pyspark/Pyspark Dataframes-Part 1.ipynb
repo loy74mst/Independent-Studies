{
 "cells": [
  {
   "cell_type": "code",
   "execution_count": 3,
   "id": "a56c1860",
   "metadata": {},
   "outputs": [
    {
     "data": {
      "text/html": [
       "\n",
       "            <div>\n",
       "                <p><b>SparkSession - in-memory</b></p>\n",
       "                \n",
       "        <div>\n",
       "            <p><b>SparkContext</b></p>\n",
       "\n",
       "            <p><a href=\"http://10.106.72.131:4040\">Spark UI</a></p>\n",
       "\n",
       "            <dl>\n",
       "              <dt>Version</dt>\n",
       "                <dd><code>v3.1.2</code></dd>\n",
       "              <dt>Master</dt>\n",
       "                <dd><code>local[*]</code></dd>\n",
       "              <dt>AppName</dt>\n",
       "                <dd><code>Dataframe Practice</code></dd>\n",
       "            </dl>\n",
       "        </div>\n",
       "        \n",
       "            </div>\n",
       "        "
      ],
      "text/plain": [
       "<pyspark.sql.session.SparkSession at 0x287d13328e0>"
      ]
     },
     "execution_count": 3,
     "metadata": {},
     "output_type": "execute_result"
    }
   ],
   "source": [
    "#Starting the SparkSession\n",
    "from pyspark.sql import SparkSession\n",
    "spark = SparkSession.builder.appName(\"Dataframe Practice\").getOrCreate()\n",
    "spark"
   ]
  },
  {
   "cell_type": "code",
   "execution_count": 8,
   "id": "3ef868f6",
   "metadata": {},
   "outputs": [
    {
     "name": "stdout",
     "output_type": "stream",
     "text": [
      "+-----+---+----------+\n",
      "| name|age|experience|\n",
      "+-----+---+----------+\n",
      "|krish| 31|        10|\n",
      "|  sam| 30|         8|\n",
      "| prim| 29|         1|\n",
      "+-----+---+----------+\n",
      "\n"
     ]
    }
   ],
   "source": [
    "#Reading in the dataset\n",
    "spark.read.option('header','true').csv('test1-1.csv').show()\n",
    "df_pyspark = spark.read.option('header','true').csv('test1-1.csv')\n"
   ]
  },
  {
   "cell_type": "code",
   "execution_count": 13,
   "id": "163522a8",
   "metadata": {},
   "outputs": [
    {
     "name": "stdout",
     "output_type": "stream",
     "text": [
      "root\n",
      " |-- name: string (nullable = true)\n",
      " |-- age: integer (nullable = true)\n",
      " |-- experience: integer (nullable = true)\n",
      "\n",
      "root\n",
      " |-- name: string (nullable = true)\n",
      " |-- age: integer (nullable = true)\n",
      " |-- experience: integer (nullable = true)\n",
      "\n"
     ]
    }
   ],
   "source": [
    "##Check the schema\n",
    "df_pyspark.printSchema()\n",
    "\n",
    "#Reading in the dataset, but now the columns won't all be read in as strings\n",
    "df_pyspark = spark.read.option('header','true').csv('test1-1.csv',inferSchema=True)\n",
    "#Checking the datatype of the columns\n",
    "df_pyspark.printSchema()\n"
   ]
  },
  {
   "cell_type": "code",
   "execution_count": 36,
   "id": "83ded5ae",
   "metadata": {},
   "outputs": [
    {
     "name": "stdout",
     "output_type": "stream",
     "text": [
      "+-----+---+----------+\n",
      "| name|age|experience|\n",
      "+-----+---+----------+\n",
      "|krish| 31|        10|\n",
      "|  sam| 30|         8|\n",
      "| prim| 29|         1|\n",
      "+-----+---+----------+\n",
      "\n"
     ]
    }
   ],
   "source": [
    "#Another method for reading in the data\n",
    "df_pyspark = spark.read.csv('test1-1.csv',header=True,inferSchema=True)\n",
    "df_pyspark.show()"
   ]
  },
  {
   "cell_type": "code",
   "execution_count": 16,
   "id": "c36e189f",
   "metadata": {},
   "outputs": [
    {
     "data": {
      "text/plain": [
       "pyspark.sql.dataframe.DataFrame"
      ]
     },
     "execution_count": 16,
     "metadata": {},
     "output_type": "execute_result"
    }
   ],
   "source": [
    "#Checking the datatypes\n",
    "type(df_pyspark)"
   ]
  },
  {
   "cell_type": "code",
   "execution_count": 18,
   "id": "1e20f7ed",
   "metadata": {},
   "outputs": [
    {
     "data": {
      "text/plain": [
       "['name', 'age', 'experience']"
      ]
     },
     "execution_count": 18,
     "metadata": {},
     "output_type": "execute_result"
    }
   ],
   "source": [
    "#Get the column names\n",
    "df_pyspark.columns\n"
   ]
  },
  {
   "cell_type": "code",
   "execution_count": 19,
   "id": "15c57d74",
   "metadata": {},
   "outputs": [
    {
     "data": {
      "text/plain": [
       "[Row(name='krish', age=31, experience=10),\n",
       " Row(name='sam', age=30, experience=8),\n",
       " Row(name='prim', age=29, experience=1)]"
      ]
     },
     "execution_count": 19,
     "metadata": {},
     "output_type": "execute_result"
    }
   ],
   "source": [
    "#Head of the dataframe -- top 3 rows\n",
    "#Shows in a list format, pandas would normally show a dataframe format\n",
    "df_pyspark.head(3)"
   ]
  },
  {
   "cell_type": "code",
   "execution_count": 23,
   "id": "d3a38dfb",
   "metadata": {},
   "outputs": [
    {
     "name": "stdout",
     "output_type": "stream",
     "text": [
      "+-----+---+----------+\n",
      "| name|age|experience|\n",
      "+-----+---+----------+\n",
      "|krish| 31|        10|\n",
      "|  sam| 30|         8|\n",
      "| prim| 29|         1|\n",
      "+-----+---+----------+\n",
      "\n",
      "+-----+\n",
      "| name|\n",
      "+-----+\n",
      "|krish|\n",
      "|  sam|\n",
      "| prim|\n",
      "+-----+\n",
      "\n"
     ]
    },
    {
     "data": {
      "text/plain": [
       "pyspark.sql.dataframe.DataFrame"
      ]
     },
     "execution_count": 23,
     "metadata": {},
     "output_type": "execute_result"
    }
   ],
   "source": [
    "#How to select a column and see the elements\n",
    "\n",
    "#Showing all of the columns\n",
    "df_pyspark.show()\n",
    "\n",
    "#Showing only the name column return type\n",
    "df_pyspark.select('name')\n",
    "\n",
    "#Showing only the name column plus elements\n",
    "df_pyspark.select('name').show()\n",
    "\n",
    "#Showing the type of the 'name' column\n",
    "type(df_pyspark.select('name'))\n",
    "\n"
   ]
  },
  {
   "cell_type": "code",
   "execution_count": 24,
   "id": "30bef1d5",
   "metadata": {},
   "outputs": [
    {
     "name": "stdout",
     "output_type": "stream",
     "text": [
      "+-----+----------+\n",
      "| name|experience|\n",
      "+-----+----------+\n",
      "|krish|        10|\n",
      "|  sam|         8|\n",
      "| prim|         1|\n",
      "+-----+----------+\n",
      "\n"
     ]
    },
    {
     "data": {
      "text/plain": [
       "pyspark.sql.dataframe.DataFrame"
      ]
     },
     "execution_count": 24,
     "metadata": {},
     "output_type": "execute_result"
    }
   ],
   "source": [
    "#Selecting multiple columns and viewing the elements\n",
    "\n",
    "#Showing only the name and experience column return types\n",
    "df_pyspark.select(['name','experience'])\n",
    "\n",
    "#Showing the name and experience columns plus elements\n",
    "df_pyspark.select(['name','experience']).show()\n",
    "\n",
    "#Showing the type of the 'name' and 'experience' columns\n",
    "type(df_pyspark.select(['name','experience']))\n",
    "\n",
    "\n",
    "#Note: slice will not work here"
   ]
  },
  {
   "cell_type": "code",
   "execution_count": 25,
   "id": "a398a1db",
   "metadata": {},
   "outputs": [
    {
     "data": {
      "text/plain": [
       "Column<'name'>"
      ]
     },
     "execution_count": 25,
     "metadata": {},
     "output_type": "execute_result"
    }
   ],
   "source": [
    "#Showing what the feature 'name' is\n",
    "df_pyspark['name']\n",
    "\n",
    "#Note: the show() function will not work in this instance. To get the column and view the contents, use .select()"
   ]
  },
  {
   "cell_type": "code",
   "execution_count": 26,
   "id": "2f53090e",
   "metadata": {},
   "outputs": [
    {
     "data": {
      "text/plain": [
       "[('name', 'string'), ('age', 'int'), ('experience', 'int')]"
      ]
     },
     "execution_count": 26,
     "metadata": {},
     "output_type": "execute_result"
    }
   ],
   "source": [
    "#Checking the datatypes of each column\n",
    "df_pyspark.dtypes"
   ]
  },
  {
   "cell_type": "code",
   "execution_count": 28,
   "id": "5e80294c",
   "metadata": {},
   "outputs": [
    {
     "name": "stdout",
     "output_type": "stream",
     "text": [
      "+-------+-----+----+-----------------+\n",
      "|summary| name| age|       experience|\n",
      "+-------+-----+----+-----------------+\n",
      "|  count|    3|   3|                3|\n",
      "|   mean| null|30.0|6.333333333333333|\n",
      "| stddev| null| 1.0|4.725815626252609|\n",
      "|    min|krish|  29|                1|\n",
      "|    max|  sam|  31|               10|\n",
      "+-------+-----+----+-----------------+\n",
      "\n"
     ]
    }
   ],
   "source": [
    "#Noting similarities in .describe() with pandas. Basically the \"summary\" function in R\n",
    "df_pyspark.describe()\n",
    "\n",
    "df_pyspark.describe().show()"
   ]
  },
  {
   "cell_type": "code",
   "execution_count": 37,
   "id": "fcc5b6df",
   "metadata": {},
   "outputs": [
    {
     "name": "stdout",
     "output_type": "stream",
     "text": [
      "+-----+---+----------+------------------------+\n",
      "| name|age|experience|experience after 2 years|\n",
      "+-----+---+----------+------------------------+\n",
      "|krish| 31|        10|                      12|\n",
      "|  sam| 30|         8|                      10|\n",
      "| prim| 29|         1|                       3|\n",
      "+-----+---+----------+------------------------+\n",
      "\n",
      "+-----+---+----------+\n",
      "| name|age|experience|\n",
      "+-----+---+----------+\n",
      "|krish| 31|        10|\n",
      "|  sam| 30|         8|\n",
      "| prim| 29|         1|\n",
      "+-----+---+----------+\n",
      "\n",
      "+-----+---+----------+\n",
      "| name|age|experience|\n",
      "+-----+---+----------+\n",
      "|krish| 31|        10|\n",
      "|  sam| 30|         8|\n",
      "| prim| 29|         1|\n",
      "+-----+---+----------+\n",
      "\n"
     ]
    }
   ],
   "source": [
    "#Adding and dropping columns in the dataframe\n",
    "\n",
    "#Adding columns\n",
    "#dataframe.withColumn('new column name',what the column contains or an operation with an existing column)\n",
    "df_pyspark = df_pyspark.withColumn('experience after 2 years',df_pyspark['experience']+2)\n",
    "df_pyspark.show()\n",
    "\n",
    "#Dropping columns\n",
    "#dataframe.drop('list','of','columns')\n",
    "df_pyspark.drop('experience after 2 years').show()\n",
    "df_pyspark = df_pyspark.drop('experience after 2 years')"
   ]
  },
  {
   "cell_type": "code",
   "execution_count": 39,
   "id": "764f607e",
   "metadata": {},
   "outputs": [
    {
     "name": "stdout",
     "output_type": "stream",
     "text": [
      "+--------+---+----------+\n",
      "|new name|age|experience|\n",
      "+--------+---+----------+\n",
      "|   krish| 31|        10|\n",
      "|     sam| 30|         8|\n",
      "|    prim| 29|         1|\n",
      "+--------+---+----------+\n",
      "\n"
     ]
    }
   ],
   "source": [
    "#Renaming the columns\n",
    "\n",
    "#dataframe.withColumnRenamed('existing column name','new column name')\n",
    "df_pyspark.withColumnRenamed('name','new name').show()"
   ]
  },
  {
   "cell_type": "code",
   "execution_count": null,
   "id": "f37ea4f2",
   "metadata": {},
   "outputs": [],
   "source": []
  }
 ],
 "metadata": {
  "kernelspec": {
   "display_name": "Python 3",
   "language": "python",
   "name": "python3"
  },
  "language_info": {
   "codemirror_mode": {
    "name": "ipython",
    "version": 3
   },
   "file_extension": ".py",
   "mimetype": "text/x-python",
   "name": "python",
   "nbconvert_exporter": "python",
   "pygments_lexer": "ipython3",
   "version": "3.8.8"
  }
 },
 "nbformat": 4,
 "nbformat_minor": 5
}
